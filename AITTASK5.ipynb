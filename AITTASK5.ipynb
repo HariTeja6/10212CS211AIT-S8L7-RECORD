{
  "nbformat": 4,
  "nbformat_minor": 0,
  "metadata": {
    "colab": {
      "provenance": [],
      "authorship_tag": "ABX9TyPrTFJoVh+P+64Fw1OJaQCt",
      "include_colab_link": true
    },
    "kernelspec": {
      "name": "python3",
      "display_name": "Python 3"
    },
    "language_info": {
      "name": "python"
    }
  },
  "cells": [
    {
      "cell_type": "markdown",
      "metadata": {
        "id": "view-in-github",
        "colab_type": "text"
      },
      "source": [
        "<a href=\"https://colab.research.google.com/github/HariTeja6/10212CS211AIT-S8L7-RECORD/blob/main/AITTASK5.ipynb\" target=\"_parent\"><img src=\"https://colab.research.google.com/assets/colab-badge.svg\" alt=\"Open In Colab\"/></a>"
      ]
    },
    {
      "cell_type": "code",
      "execution_count": null,
      "metadata": {
        "colab": {
          "base_uri": "https://localhost:8080/"
        },
        "id": "n5aFmwlr9Hj1",
        "outputId": "9d78cdff-bedc-4b6b-bf0c-c5ddde78b030"
      },
      "outputs": [
        {
          "output_type": "stream",
          "name": "stdout",
          "text": [
            "Route of all ants at the end:\n",
            "[4, np.int64(2), np.int64(1), np.int64(3), np.int64(5), 4]\n",
            "[3, np.int64(5), np.int64(4), np.int64(2), np.int64(1), 3]\n",
            "[3, np.int64(5), np.int64(4), np.int64(2), np.int64(1), 3]\n",
            "[5, np.int64(4), np.int64(2), np.int64(1), np.int64(3), 5]\n",
            "[4, np.int64(2), np.int64(1), np.int64(3), np.int64(5), 4]\n",
            "\n",
            "Best path: [2, np.int64(1), np.int64(3), np.int64(5), np.int64(4), 2]\n",
            "Cost of the best path= 22\n"
          ]
        }
      ],
      "source": [
        "import numpy as np, random\n",
        "\n",
        "# Distance matrix (ride times between 5 cities)\n",
        "dist = np.array([[0, 2, 9,10,7],\n",
        "                 [1, 0, 6, 4,3],\n",
        "                 [15,7, 0, 8,3],\n",
        "                 [6, 3,12, 0,11],\n",
        "                 [9, 7, 5, 6,0]])\n",
        "\n",
        "n, ants, iters = 5, 5, 30\n",
        "alpha, beta, evap, Q = 1, 2, 0.5, 100\n",
        "pher = np.ones((n,n))\n",
        "\n",
        "def length(t): return sum(dist[t[i]-1][t[i+1]-1] for i in range(len(t)-1))\n",
        "\n",
        "best, best_len, all_routes = None, 1e9, []\n",
        "for _ in range(iters):\n",
        "    routes=[]\n",
        "    for _ in range(ants):\n",
        "        tour=[random.randint(1,n)]\n",
        "        while len(tour)<n:\n",
        "            i=tour[-1]-1; prob=[]\n",
        "            for j in range(n):\n",
        "                if j+1 not in tour: prob.append((pher[i][j]**alpha)*((1/dist[i][j])**beta))\n",
        "                else: prob.append(0)\n",
        "            prob=np.array(prob)/sum(prob)\n",
        "            tour.append(np.random.choice(range(1,n+1),p=prob))\n",
        "        tour.append(tour[0]); routes.append(tour)\n",
        "        L=length(tour)\n",
        "        if L<best_len: best,best_len=tour,L\n",
        "    all_routes=routes; pher*=(1-evap)\n",
        "    for t in routes:\n",
        "        L=length(t)\n",
        "        for i in range(len(t)-1): pher[t[i]-1][t[i+1]-1]+=Q/L\n",
        "\n",
        "print(\"Route of all ants at the end:\")\n",
        "for r in all_routes: print(r)\n",
        "print(\"\\nBest path:\", best)\n",
        "print(\"Cost of the best path=\", best_len)"
      ]
    },
    {
      "cell_type": "code",
      "source": [],
      "metadata": {
        "id": "6innwdSH9lBs"
      },
      "execution_count": null,
      "outputs": []
    }
  ]
}